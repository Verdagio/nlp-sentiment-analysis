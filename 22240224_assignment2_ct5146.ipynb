{
 "cells": [
  {
   "cell_type": "markdown",
   "metadata": {},
   "source": [
    "# Introduction to Natural Language Processing - CT5146 Assignment 2\n",
    "## Daniel Verdejo - 22240224\n",
    "\n"
   ]
  },
  {
   "cell_type": "markdown",
   "metadata": {},
   "source": [
    "### Task 1a\n",
    "\n",
    "Plot a group bar plot to show the distribution of sentiment classes (positive, negative, neutral) in the train and dev dataset.\n",
    "\n",
    "\n",
    "In order to manage the data and visualize it the Pandas and Matplotlib libraries will be used. The reasoning behind using these libraries is obvious.\n",
    "\n",
    "**Pandas** is a powerful library for data management due to its easy-to-use functions that facilitate the consumption of data from various file types, including .csv. Furthermore, it offers the DataFrame data structure, which is ideal for tabular data such as comma-separated values, simplifying manipulation and analysis.\n",
    "\n",
    "**Matplotlib** offers many diffrent plots from bars, pies, scatter, line and more, making it an obvious choice to visualize many sorts of data in different ways. The visualization is highly configurable allowing control of aspects such as axis, colours, labels, and titles. \n",
    "\n",
    "Both of these libraries have strong integrations meaning a seamless dataflow from data ingestion to visualization and data analysis. As well as this the libraries are commonplace in most data science projects and as such work well with many other libraries such as numpy, scikit-learn and more meaning less time wasted trying to get libraries to work with one another."
   ]
  },
  {
   "cell_type": "code",
   "execution_count": 1,
   "metadata": {},
   "outputs": [
    {
     "name": "stdout",
     "output_type": "stream",
     "text": [
      "Requirement already satisfied: spacy in c:\\users\\danny\\anaconda3\\lib\\site-packages (3.7.2)\n",
      "Requirement already satisfied: pandas in c:\\users\\danny\\anaconda3\\lib\\site-packages (1.4.2)\n",
      "Requirement already satisfied: matplotlib in c:\\users\\danny\\anaconda3\\lib\\site-packages (3.5.1)\n",
      "Requirement already satisfied: nltk in c:\\users\\danny\\anaconda3\\lib\\site-packages (3.7)\n",
      "Requirement already satisfied: sklearn in c:\\users\\danny\\anaconda3\\lib\\site-packages (0.0.post1)\n",
      "Requirement already satisfied: gensim in c:\\users\\danny\\anaconda3\\lib\\site-packages (4.1.2)\n",
      "Requirement already satisfied: keras in c:\\users\\danny\\anaconda3\\lib\\site-packages (2.11.0)\n",
      "Requirement already satisfied: numpy in c:\\users\\danny\\anaconda3\\lib\\site-packages (1.21.5)\n",
      "Requirement already satisfied: joblib in c:\\users\\danny\\anaconda3\\lib\\site-packages (1.1.0)\n",
      "Requirement already satisfied: spacy-legacy<3.1.0,>=3.0.11 in c:\\users\\danny\\anaconda3\\lib\\site-packages (from spacy) (3.0.12)\n",
      "Requirement already satisfied: spacy-loggers<2.0.0,>=1.0.0 in c:\\users\\danny\\anaconda3\\lib\\site-packages (from spacy) (1.0.5)\n",
      "Requirement already satisfied: murmurhash<1.1.0,>=0.28.0 in c:\\users\\danny\\anaconda3\\lib\\site-packages (from spacy) (1.0.10)\n",
      "Requirement already satisfied: cymem<2.1.0,>=2.0.2 in c:\\users\\danny\\anaconda3\\lib\\site-packages (from spacy) (2.0.8)\n",
      "Requirement already satisfied: preshed<3.1.0,>=3.0.2 in c:\\users\\danny\\anaconda3\\lib\\site-packages (from spacy) (3.0.9)\n",
      "Requirement already satisfied: thinc<8.3.0,>=8.1.8 in c:\\users\\danny\\anaconda3\\lib\\site-packages (from spacy) (8.2.2)\n",
      "Requirement already satisfied: wasabi<1.2.0,>=0.9.1 in c:\\users\\danny\\anaconda3\\lib\\site-packages (from spacy) (1.1.2)\n",
      "Requirement already satisfied: srsly<3.0.0,>=2.4.3 in c:\\users\\danny\\anaconda3\\lib\\site-packages (from spacy) (2.4.8)\n",
      "Requirement already satisfied: catalogue<2.1.0,>=2.0.6 in c:\\users\\danny\\anaconda3\\lib\\site-packages (from spacy) (2.0.10)\n",
      "Requirement already satisfied: weasel<0.4.0,>=0.1.0 in c:\\users\\danny\\anaconda3\\lib\\site-packages (from spacy) (0.3.4)\n",
      "Requirement already satisfied: typer<0.10.0,>=0.3.0 in c:\\users\\danny\\anaconda3\\lib\\site-packages (from spacy) (0.9.0)\n",
      "Requirement already satisfied: smart-open<7.0.0,>=5.2.1 in c:\\users\\danny\\anaconda3\\lib\\site-packages (from spacy) (6.4.0)\n",
      "Requirement already satisfied: tqdm<5.0.0,>=4.38.0 in c:\\users\\danny\\anaconda3\\lib\\site-packages (from spacy) (4.64.0)\n",
      "Requirement already satisfied: requests<3.0.0,>=2.13.0 in c:\\users\\danny\\anaconda3\\lib\\site-packages (from spacy) (2.27.1)\n",
      "Requirement already satisfied: pydantic!=1.8,!=1.8.1,<3.0.0,>=1.7.4 in c:\\users\\danny\\anaconda3\\lib\\site-packages (from spacy) (2.4.2)\n",
      "Requirement already satisfied: jinja2 in c:\\users\\danny\\anaconda3\\lib\\site-packages (from spacy) (2.11.3)\n",
      "Requirement already satisfied: setuptools in c:\\users\\danny\\anaconda3\\lib\\site-packages (from spacy) (61.2.0)\n",
      "Requirement already satisfied: packaging>=20.0 in c:\\users\\danny\\anaconda3\\lib\\site-packages (from spacy) (21.3)\n",
      "Requirement already satisfied: langcodes<4.0.0,>=3.2.0 in c:\\users\\danny\\anaconda3\\lib\\site-packages (from spacy) (3.3.0)\n",
      "Requirement already satisfied: python-dateutil>=2.8.1 in c:\\users\\danny\\anaconda3\\lib\\site-packages (from pandas) (2.8.2)\n",
      "Requirement already satisfied: pytz>=2020.1 in c:\\users\\danny\\anaconda3\\lib\\site-packages (from pandas) (2021.3)\n",
      "Requirement already satisfied: cycler>=0.10 in c:\\users\\danny\\anaconda3\\lib\\site-packages (from matplotlib) (0.11.0)\n",
      "Requirement already satisfied: fonttools>=4.22.0 in c:\\users\\danny\\anaconda3\\lib\\site-packages (from matplotlib) (4.25.0)\n",
      "Requirement already satisfied: kiwisolver>=1.0.1 in c:\\users\\danny\\anaconda3\\lib\\site-packages (from matplotlib) (1.3.2)\n",
      "Requirement already satisfied: pillow>=6.2.0 in c:\\users\\danny\\anaconda3\\lib\\site-packages (from matplotlib) (9.0.1)\n",
      "Requirement already satisfied: pyparsing>=2.2.1 in c:\\users\\danny\\anaconda3\\lib\\site-packages (from matplotlib) (3.0.4)\n",
      "Requirement already satisfied: click in c:\\users\\danny\\anaconda3\\lib\\site-packages (from nltk) (8.0.4)\n",
      "Requirement already satisfied: regex>=2021.8.3 in c:\\users\\danny\\anaconda3\\lib\\site-packages (from nltk) (2022.3.15)\n",
      "Requirement already satisfied: scipy>=0.18.1 in c:\\users\\danny\\anaconda3\\lib\\site-packages (from gensim) (1.7.3)\n",
      "Requirement already satisfied: annotated-types>=0.4.0 in c:\\users\\danny\\anaconda3\\lib\\site-packages (from pydantic!=1.8,!=1.8.1,<3.0.0,>=1.7.4->spacy) (0.6.0)\n",
      "Requirement already satisfied: pydantic-core==2.10.1 in c:\\users\\danny\\anaconda3\\lib\\site-packages (from pydantic!=1.8,!=1.8.1,<3.0.0,>=1.7.4->spacy) (2.10.1)\n",
      "Requirement already satisfied: typing-extensions>=4.6.1 in c:\\users\\danny\\anaconda3\\lib\\site-packages (from pydantic!=1.8,!=1.8.1,<3.0.0,>=1.7.4->spacy) (4.8.0)\n",
      "Requirement already satisfied: six>=1.5 in c:\\users\\danny\\anaconda3\\lib\\site-packages (from python-dateutil>=2.8.1->pandas) (1.16.0)\n",
      "Requirement already satisfied: urllib3<1.27,>=1.21.1 in c:\\users\\danny\\anaconda3\\lib\\site-packages (from requests<3.0.0,>=2.13.0->spacy) (1.26.9)\n",
      "Requirement already satisfied: certifi>=2017.4.17 in c:\\users\\danny\\anaconda3\\lib\\site-packages (from requests<3.0.0,>=2.13.0->spacy) (2021.10.8)\n",
      "Requirement already satisfied: charset-normalizer~=2.0.0 in c:\\users\\danny\\anaconda3\\lib\\site-packages (from requests<3.0.0,>=2.13.0->spacy) (2.0.4)\n",
      "Requirement already satisfied: idna<4,>=2.5 in c:\\users\\danny\\anaconda3\\lib\\site-packages (from requests<3.0.0,>=2.13.0->spacy) (3.3)\n",
      "Requirement already satisfied: blis<0.8.0,>=0.7.8 in c:\\users\\danny\\anaconda3\\lib\\site-packages (from thinc<8.3.0,>=8.1.8->spacy) (0.7.11)\n",
      "Requirement already satisfied: confection<1.0.0,>=0.0.1 in c:\\users\\danny\\anaconda3\\lib\\site-packages (from thinc<8.3.0,>=8.1.8->spacy) (0.1.4)\n",
      "Requirement already satisfied: colorama in c:\\users\\danny\\anaconda3\\lib\\site-packages (from tqdm<5.0.0,>=4.38.0->spacy) (0.4.6)\n",
      "Requirement already satisfied: cloudpathlib<0.17.0,>=0.7.0 in c:\\users\\danny\\anaconda3\\lib\\site-packages (from weasel<0.4.0,>=0.1.0->spacy) (0.16.0)\n",
      "Requirement already satisfied: MarkupSafe>=0.23 in c:\\users\\danny\\anaconda3\\lib\\site-packages (from jinja2->spacy) (2.0.1)\n"
     ]
    },
    {
     "name": "stderr",
     "output_type": "stream",
     "text": [
      "\n",
      "[notice] A new release of pip is available: 23.1.2 -> 23.3.1\n",
      "[notice] To update, run: python.exe -m pip install --upgrade pip\n"
     ]
    }
   ],
   "source": [
    "!pip install spacy pandas matplotlib nltk sklearn gensim keras numpy joblib"
   ]
  },
  {
   "cell_type": "code",
   "execution_count": 2,
   "metadata": {},
   "outputs": [
    {
     "name": "stderr",
     "output_type": "stream",
     "text": [
      "[nltk_data] Downloading package treebank to\n",
      "[nltk_data]     C:\\Users\\danny\\AppData\\Roaming\\nltk_data...\n",
      "[nltk_data]   Package treebank is already up-to-date!\n",
      "[nltk_data] Downloading package stopwords to\n",
      "[nltk_data]     C:\\Users\\danny\\AppData\\Roaming\\nltk_data...\n",
      "[nltk_data]   Package stopwords is already up-to-date!\n"
     ]
    }
   ],
   "source": [
    "\n",
    "import re\n",
    "import string\n",
    "import pandas as pd\n",
    "import matplotlib.pyplot as plt\n",
    "import numpy as np\n",
    "import nltk\n",
    "\n",
    "nltk.download('treebank')\n",
    "nltk.download('stopwords')\n",
    "\n",
    "from nltk.corpus import stopwords\n",
    "from nltk.tokenize import TreebankWordDetokenizer, TreebankWordTokenizer\n",
    "\n",
    "from sklearn.feature_extraction.text import CountVectorizer, TfidfVectorizer, TfidfTransformer\n",
    "from sklearn.svm import SVC\n",
    "from sklearn.metrics import classification_report\n",
    "from sklearn.model_selection import GridSearchCV\n",
    "from sklearn.preprocessing import LabelEncoder\n",
    "\n",
    "from keras.models import Sequential\n",
    "from keras.layers import Embedding, LSTM, Dense, Dropout\n",
    "from keras.preprocessing.text import Tokenizer\n",
    "from keras.utils import pad_sequences\n",
    "from joblib import parallel_backend\n",
    "\n",
    "import gensim.downloader as api\n"
   ]
  },
  {
   "cell_type": "code",
   "execution_count": 3,
   "metadata": {},
   "outputs": [
    {
     "data": {
      "image/png": "[encoded data removed]",
      "text/plain": [
       "<Figure size 720x360 with 1 Axes>"
      ]
     },
     "metadata": {
      "needs_background": "light"
     },
     "output_type": "display_data"
    }
   ],
   "source": [
    "train_df = pd.read_csv('./data/train.csv')\n",
    "dev_df = pd.read_csv('./data/dev.csv')\n",
    "test_df = pd.read_csv('./data/test.csv')\n",
    "train_sentiment_cnts = train_df['sentiment'].value_counts()\n",
    "dev_sentiment_cnts = dev_df['sentiment'].value_counts()\n",
    "\n",
    "order = ['negative', 'positive', 'neutral']\n",
    "fig, ax = plt.subplots(figsize=(10, 5))\n",
    "\n",
    "dev_sentiment_cnts.reindex(order).plot(kind='bar', ax=ax, position=0, color='red', width=0.25, label='dev')\n",
    "for i, (_, v) in enumerate(zip(order, dev_sentiment_cnts.reindex(order))):\n",
    "    ax.text(i+0.1, v, 'dev_CNT')\n",
    "\n",
    "train_sentiment_cnts.reindex(order).plot(kind='bar', ax=ax, position=1, color='blue', width=0.25, label='train')\n",
    "for i, (_, v) in enumerate(zip(order, train_sentiment_cnts.reindex(order))):\n",
    "    ax.text(i-0.1,  v, 'train_CNT')\n",
    "\n",
    "ax.set_title('Sentiment class distribution')\n",
    "ax.set_xlabel('Sentiment')\n",
    "ax.set_ylabel('Count')\n",
    "ax.legend(title='Dataset', loc='upper left')\n",
    "ax.set_xlim(-0.5, len(order) -0.5)\n",
    "\n",
    "plt.show()"
   ]
  },
  {
   "cell_type": "markdown",
   "metadata": {},
   "source": [
    "Now that we have consumed our data and visualised it we can see what we are working with.\n",
    "\n",
    "## Task 2a"
   ]
  },
  {
   "cell_type": "markdown",
   "metadata": {},
   "source": [
    "First some utility functions to clean / preprocess the data"
   ]
  },
  {
   "cell_type": "code",
   "execution_count": 4,
   "metadata": {},
   "outputs": [],
   "source": [
    "punc = list(string.punctuation)\n",
    "tknz = TreebankWordTokenizer()\n",
    "detokenizer = TreebankWordDetokenizer() \n",
    "eng_stopwords = stopwords.words(\"english\")\n",
    "\n",
    "def get_useful_words(sentence):\n",
    "    url_replaced_text = re.sub(r'https?://[\\n\\S]+\\b', 'u_r_l', sentence)\n",
    "    words = tknz.tokenize(url_replaced_text)\n",
    "    useful_words = [word for word in words if word not in eng_stopwords and word not in punc]\n",
    "    return detokenizer.detokenize(useful_words)\n",
    "\n"
   ]
  },
  {
   "cell_type": "code",
   "execution_count": 5,
   "metadata": {},
   "outputs": [
    {
     "data": {
      "text/plain": [
       "TfidfVectorizer()"
      ]
     },
     "execution_count": 5,
     "metadata": {},
     "output_type": "execute_result"
    }
   ],
   "source": [
    "tfidf_vectorizer =TfidfVectorizer(ngram_range=(1, 1))\n",
    "train_df['text'] = train_df['text'].fillna('')\n",
    "train_df['text'] = train_df['text'].apply(lambda s: get_useful_words(s))\n",
    "tfidf_vectorizer.fit(train_df['text'])"
   ]
  },
  {
   "cell_type": "code",
   "execution_count": 6,
   "metadata": {},
   "outputs": [
    {
     "name": "stdout",
     "output_type": "stream",
     "text": [
      "              precision    recall  f1-score   support\n",
      "\n",
      "    negative       0.74      0.50      0.59       317\n",
      "     neutral       0.60      0.79      0.68       453\n",
      "    positive       0.74      0.67      0.70       350\n",
      "\n",
      "    accuracy                           0.67      1120\n",
      "   macro avg       0.69      0.65      0.66      1120\n",
      "weighted avg       0.68      0.67      0.66      1120\n",
      "\n"
     ]
    }
   ],
   "source": [
    "dev_df['text'] = dev_df['text'].fillna('')\n",
    "dev_df['text'] = dev_df['text'].apply(lambda s: get_useful_words(s))\n",
    "count_vect = CountVectorizer()\n",
    "X_train_counts = count_vect.fit_transform(train_df['text'])\n",
    "X_dev_counts = count_vect.transform(dev_df['text'])\n",
    "\n",
    "svm_classifier = SVC()\n",
    "svm_classifier.fit(X_train_counts, train_df['sentiment'])\n",
    "\n",
    "dev_pred = svm_classifier.predict(X_dev_counts)\n",
    "print(classification_report(dev_df['sentiment'], dev_pred))"
   ]
  },
  {
   "cell_type": "code",
   "execution_count": 7,
   "metadata": {},
   "outputs": [
    {
     "name": "stdout",
     "output_type": "stream",
     "text": [
      "['neutral' 'neutral' 'neutral' ... 'neutral' 'positive' 'neutral']\n"
     ]
    }
   ],
   "source": [
    "print(dev_pred)"
   ]
  },
  {
   "cell_type": "code",
   "execution_count": 8,
   "metadata": {},
   "outputs": [
    {
     "name": "stdout",
     "output_type": "stream",
     "text": [
      "['neutral' 'neutral' 'neutral' ... 'neutral' 'positive' 'neutral']\n"
     ]
    }
   ],
   "source": [
    "tfidf_transformer = TfidfTransformer()\n",
    "X_train_tfidf = tfidf_transformer.fit_transform(X_train_counts)\n",
    "X_dev_tfidf = tfidf_transformer.transform(X_dev_counts)\n",
    "\n",
    "svm_classifier = SVC()\n",
    "svm_classifier.fit(X_train_tfidf, train_df['sentiment'])\n",
    "dev_pred = svm_classifier.predict(X_dev_tfidf)\n",
    "\n",
    "print(dev_pred)"
   ]
  },
  {
   "cell_type": "markdown",
   "metadata": {},
   "source": [
    "Above we take a fairly simple approach to sentiment classificartion using TFIDF features with an SVM classifier.\n",
    "\n",
    "As we did in week 10s exercise we use a CountVectorizer to convert the raw text into a numerical format that can be fed into the SVM classifier. This is then trained on these numerical features to predict sentiment labels on new, unseen data. \n",
    "\n",
    "## task 2b"
   ]
  },
  {
   "cell_type": "code",
   "execution_count": 9,
   "metadata": {},
   "outputs": [
    {
     "name": "stdout",
     "output_type": "stream",
     "text": [
      "              precision    recall  f1-score   support\n",
      "\n",
      "    negative       0.76      0.51      0.61       317\n",
      "     neutral       0.59      0.79      0.68       453\n",
      "    positive       0.75      0.65      0.69       350\n",
      "\n",
      "    accuracy                           0.67      1120\n",
      "   macro avg       0.70      0.65      0.66      1120\n",
      "weighted avg       0.69      0.67      0.66      1120\n",
      "\n"
     ]
    }
   ],
   "source": [
    "print(classification_report(dev_df['sentiment'], dev_pred))"
   ]
  },
  {
   "cell_type": "markdown",
   "metadata": {},
   "source": [
    "Its always recommended to try some hyperparameter tuning before moving to a different approach"
   ]
  },
  {
   "cell_type": "code",
   "execution_count": 10,
   "metadata": {},
   "outputs": [
    {
     "name": "stdout",
     "output_type": "stream",
     "text": [
      "Best hyperparameters:  {'C': 1, 'gamma': 'scale', 'kernel': 'linear'}\n",
      "              precision    recall  f1-score   support\n",
      "\n",
      "    negative       0.72      0.58      0.64       317\n",
      "     neutral       0.62      0.74      0.67       453\n",
      "    positive       0.74      0.68      0.71       350\n",
      "\n",
      "    accuracy                           0.68      1120\n",
      "   macro avg       0.69      0.67      0.67      1120\n",
      "weighted avg       0.69      0.68      0.68      1120\n",
      "\n"
     ]
    }
   ],
   "source": [
    "label_encoder = LabelEncoder()\n",
    "y_train_encoded = label_encoder.fit_transform(train_df['sentiment'])\n",
    "y_dev_encoded = label_encoder.transform(dev_df['sentiment'])\n",
    "\n",
    "param_grid = {\n",
    "    'C': [0.5, 1, 5],\n",
    "    'kernel': ['linear'],\n",
    "    'gamma': ['scale', 'auto']\n",
    "}\n",
    "\n",
    "grid_search = GridSearchCV(svm_classifier, param_grid, cv=3, scoring='f1_macro', n_jobs=-1)\n",
    "grid_search.fit(X_train_tfidf, y_train_encoded)\n",
    "\n",
    "print('Best hyperparameters: ', grid_search.best_params_)\n",
    "dev_pred = grid_search.predict(X_dev_tfidf)\n",
    "dev_pred_decoded = label_encoder.inverse_transform(dev_pred)\n",
    "\n",
    "print(classification_report(dev_df['sentiment'], dev_pred_decoded))"
   ]
  },
  {
   "cell_type": "markdown",
   "metadata": {},
   "source": [
    "\n",
    "The Support Vector Machine (SVM) before tuning has a balanced sentiment classification with an accuracy of 67% and an overall F1-Score around 67%. After hyperparameter tuning, the SVM sees a slight improvement, reaching 68% accuracy and showing similar improvement to its recall, particularly for the 'negative' sentiment class which jumped by 5% in the f1-score.\n",
    "\n",
    "## task 2c\n",
    "\n",
    "Try using a different approach to improve: A Neural net (NN) to predict sentiment"
   ]
  },
  {
   "cell_type": "code",
   "execution_count": 11,
   "metadata": {},
   "outputs": [
    {
     "name": "stdout",
     "output_type": "stream",
     "text": [
      "Epoch 1/5\n",
      "665/665 [==============================] - 18s 22ms/step - loss: 0.7774 - accuracy: 0.6662 - val_loss: 0.7123 - val_accuracy: 0.7098\n",
      "Epoch 2/5\n",
      "665/665 [==============================] - 13s 20ms/step - loss: 0.6679 - accuracy: 0.7348 - val_loss: 0.7192 - val_accuracy: 0.7054\n",
      "Epoch 3/5\n",
      "665/665 [==============================] - 13s 20ms/step - loss: 0.6389 - accuracy: 0.7475 - val_loss: 0.6938 - val_accuracy: 0.7161\n",
      "Epoch 4/5\n",
      "665/665 [==============================] - 13s 20ms/step - loss: 0.6104 - accuracy: 0.7601 - val_loss: 0.6768 - val_accuracy: 0.7304\n",
      "Epoch 5/5\n",
      "665/665 [==============================] - 13s 20ms/step - loss: 0.5818 - accuracy: 0.7708 - val_loss: 0.6933 - val_accuracy: 0.7205\n",
      "35/35 [==============================] - 1s 8ms/step\n",
      "              precision    recall  f1-score   support\n",
      "\n",
      "    negative       0.77      0.63      0.69       317\n",
      "     neutral       0.67      0.75      0.71       453\n",
      "    positive       0.75      0.76      0.76       350\n",
      "\n",
      "    accuracy                           0.72      1120\n",
      "   macro avg       0.73      0.71      0.72      1120\n",
      "weighted avg       0.73      0.72      0.72      1120\n",
      "\n"
     ]
    }
   ],
   "source": [
    "def create_embedding_matrix(model, word_index):\n",
    "    embedding_matrix = np.zeros((len(word_index) + 1 , model.vector_size))\n",
    "    for word, i in word_index.items():\n",
    "        if word in model:\n",
    "            embedding_matrix[i] = model[word]\n",
    "\n",
    "    return embedding_matrix\n",
    "\n",
    "\n",
    "tknz = Tokenizer()\n",
    "tknz.fit_on_texts(train_df['text'])\n",
    "X_train_seq = tknz.texts_to_sequences(train_df['text'])\n",
    "X_dev_seq = tknz.texts_to_sequences(dev_df['text'])\n",
    "\n",
    "max_sequence_length = max(max(len(seq) for seq in X_train_seq), max(len(seq) for seq in X_dev_seq))\n",
    "X_train_pad = pad_sequences(X_train_seq, maxlen=max_sequence_length)\n",
    "X_dev_pad = pad_sequences(X_dev_seq, maxlen=max_sequence_length)\n",
    "\n",
    "emb_dims = api.load('word2vec-google-news-300')\n",
    "embedding_matrix = create_embedding_matrix(emb_dims, tknz.word_index)\n",
    "with parallel_backend('threading', n_jobs=-1):\n",
    "\n",
    "    model = Sequential()\n",
    "    model.add(Embedding(\n",
    "            input_dim=len(tknz.word_index) + 1,\n",
    "            output_dim=emb_dims.vector_size,\n",
    "            input_length=max_sequence_length,\n",
    "            weights=[embedding_matrix], trainable=False\n",
    "        )\n",
    "    )\n",
    "    model.add(LSTM(128, return_sequences=True))\n",
    "    model.add(LSTM(64))\n",
    "    model.add(Dense(64, activation='relu'))\n",
    "    model.add(Dropout(0.5))\n",
    "    model.add(Dense(len(label_encoder.classes_), activation='softmax'))\n",
    "\n",
    "    model.compile(optimizer='adam', loss='sparse_categorical_crossentropy', metrics=['accuracy'])\n",
    "    model.fit(X_train_pad, y_train_encoded, epochs=5, batch_size=32, validation_data=(X_dev_pad, y_dev_encoded))\n",
    "\n",
    "    dev_pred_probs = model.predict(X_dev_pad)\n",
    "dev_pred = [label_encoder.classes_[i] for i in dev_pred_probs.argmax(axis=1)]\n",
    "print(classification_report(dev_df['sentiment'], dev_pred))\n"
   ]
  },
  {
   "cell_type": "markdown",
   "metadata": {},
   "source": [
    "\n",
    "Above we follow a fairly standard pattern for classification using a sequential NN. \n",
    " 1. We first tokenize the text\n",
    "\n",
    " 2. Pad sequences are used to make uniform input length. \n",
    "\n",
    " 3. The embedding matrix uses pre-trained word embeddings for better model understanding these are passed to the input layer. (I tested glove-twitter: 25, 50, and word2vec-google-news-300 which performed the best)\n",
    "\n",
    " 4. LSTM layers capture sequential dependencies, and dense layers with dropout prevent overfitting.\n",
    "\n",
    " 5. Finally a softmax layer is used for multi-class sentiment prediction.\n",
    "\n",
    "The NN with Word2Vec embeddings outperforms the SVM model in terms of accuracy and has a slightly better F1-scores for each sentiment class, though both models show a balanced performance. The Word2Vec model provides pre-trained embeddings to understand the meaning and context of words, capturing nuanced relationships. NNs offer a higher capacity to learn intricate patterns and dependencies in the data which suits the task of sentiment analysis in diverse contexts.\n",
    "\n",
    "## task 2d\n",
    "\n",
    "Make predictions on the test set and output a csv to upload to kaggle"
   ]
  },
  {
   "cell_type": "code",
   "execution_count": 12,
   "metadata": {},
   "outputs": [
    {
     "name": "stdout",
     "output_type": "stream",
     "text": [
      "159/159 [==============================] - 2s 7ms/step\n"
     ]
    }
   ],
   "source": [
    "\n",
    "X_test_seq = tknz.texts_to_sequences(test_df['text'])\n",
    "x_test_pad = pad_sequences(X_test_seq, maxlen=max_sequence_length)\n",
    "test_pred_probs = model.predict(x_test_pad)\n",
    "\n",
    "test_pred = [label_encoder.classes_[i] for i in test_pred_probs.argmax(axis=1)]\n",
    "\n",
    "res_df = pd.DataFrame({\n",
    "    'textID': test_df['textID'],\n",
    "    'sentiment': test_pred\n",
    "})\n",
    "\n",
    "res_df.to_csv('./data/22240224_Daniel_Verdejo.csv', columns=['textID', 'sentiment'], index=False)"
   ]
  },
  {
   "cell_type": "markdown",
   "metadata": {},
   "source": [
    "## task 3a\n",
    "\n",
    "Extract sentiment span "
   ]
  },
  {
   "cell_type": "code",
   "execution_count": 13,
   "metadata": {},
   "outputs": [],
   "source": [
    "\n",
    "# with parallel_backend('threading', n_jobs=-1):\n",
    "#     X_train_tfidf = tfidf_vectorizer.fit_transform(train_df['text'])\n",
    "#     X_dev_tfidf = tfidf_vectorizer.transform(dev_df['text'])\n",
    "\n",
    "#     svm_classifier.fit(X_train_tfidf, train_df['selected_text'])\n",
    "\n",
    "#     dev_pred = svm_classifier.predict(X_dev_tfidf)\n",
    "\n",
    "# print(classification_report(dev_df['selected_text'], dev_pred))\n",
    "\n",
    "# TODO: this takes tooo long to run (over 10 minutes!), make a better solution\n",
    "\n",
    "# ..."
   ]
  },
  {
   "cell_type": "markdown",
   "metadata": {},
   "source": [
    "## Other experiments (not part of the assignment as such)\n",
    "\n",
    "Some other experiments I tried (It was waaaaay worse than the SVM and took much longer too...).\n",
    "\n",
    "Aspect based sentiment extraction:"
   ]
  },
  {
   "cell_type": "code",
   "execution_count": 14,
   "metadata": {},
   "outputs": [
    {
     "name": "stdout",
     "output_type": "stream",
     "text": [
      "Collecting en-core-web-sm==3.7.1\n",
      "  Downloading https://github.com/explosion/spacy-models/releases/download/en_core_web_sm-3.7.1/en_core_web_sm-3.7.1-py3-none-any.whl (12.8 MB)\n",
      "     --------------------------------------- 12.8/12.8 MB 54.4 MB/s eta 0:00:00\n",
      "Requirement already satisfied: spacy<3.8.0,>=3.7.2 in c:\\users\\danny\\anaconda3\\lib\\site-packages (from en-core-web-sm==3.7.1) (3.7.2)\n",
      "Requirement already satisfied: spacy-legacy<3.1.0,>=3.0.11 in c:\\users\\danny\\anaconda3\\lib\\site-packages (from spacy<3.8.0,>=3.7.2->en-core-web-sm==3.7.1) (3.0.12)\n",
      "Requirement already satisfied: spacy-loggers<2.0.0,>=1.0.0 in c:\\users\\danny\\anaconda3\\lib\\site-packages (from spacy<3.8.0,>=3.7.2->en-core-web-sm==3.7.1) (1.0.5)\n",
      "Requirement already satisfied: murmurhash<1.1.0,>=0.28.0 in c:\\users\\danny\\anaconda3\\lib\\site-packages (from spacy<3.8.0,>=3.7.2->en-core-web-sm==3.7.1) (1.0.10)\n",
      "Requirement already satisfied: cymem<2.1.0,>=2.0.2 in c:\\users\\danny\\anaconda3\\lib\\site-packages (from spacy<3.8.0,>=3.7.2->en-core-web-sm==3.7.1) (2.0.8)\n",
      "Requirement already satisfied: preshed<3.1.0,>=3.0.2 in c:\\users\\danny\\anaconda3\\lib\\site-packages (from spacy<3.8.0,>=3.7.2->en-core-web-sm==3.7.1) (3.0.9)\n",
      "Requirement already satisfied: thinc<8.3.0,>=8.1.8 in c:\\users\\danny\\anaconda3\\lib\\site-packages (from spacy<3.8.0,>=3.7.2->en-core-web-sm==3.7.1) (8.2.2)\n",
      "Requirement already satisfied: wasabi<1.2.0,>=0.9.1 in c:\\users\\danny\\anaconda3\\lib\\site-packages (from spacy<3.8.0,>=3.7.2->en-core-web-sm==3.7.1) (1.1.2)\n",
      "Requirement already satisfied: srsly<3.0.0,>=2.4.3 in c:\\users\\danny\\anaconda3\\lib\\site-packages (from spacy<3.8.0,>=3.7.2->en-core-web-sm==3.7.1) (2.4.8)\n",
      "Requirement already satisfied: catalogue<2.1.0,>=2.0.6 in c:\\users\\danny\\anaconda3\\lib\\site-packages (from spacy<3.8.0,>=3.7.2->en-core-web-sm==3.7.1) (2.0.10)\n",
      "Requirement already satisfied: weasel<0.4.0,>=0.1.0 in c:\\users\\danny\\anaconda3\\lib\\site-packages (from spacy<3.8.0,>=3.7.2->en-core-web-sm==3.7.1) (0.3.4)\n",
      "Requirement already satisfied: typer<0.10.0,>=0.3.0 in c:\\users\\danny\\anaconda3\\lib\\site-packages (from spacy<3.8.0,>=3.7.2->en-core-web-sm==3.7.1) (0.9.0)\n",
      "Requirement already satisfied: smart-open<7.0.0,>=5.2.1 in c:\\users\\danny\\anaconda3\\lib\\site-packages (from spacy<3.8.0,>=3.7.2->en-core-web-sm==3.7.1) (6.4.0)\n",
      "Requirement already satisfied: tqdm<5.0.0,>=4.38.0 in c:\\users\\danny\\anaconda3\\lib\\site-packages (from spacy<3.8.0,>=3.7.2->en-core-web-sm==3.7.1) (4.64.0)\n",
      "Requirement already satisfied: requests<3.0.0,>=2.13.0 in c:\\users\\danny\\anaconda3\\lib\\site-packages (from spacy<3.8.0,>=3.7.2->en-core-web-sm==3.7.1) (2.27.1)\n",
      "Requirement already satisfied: pydantic!=1.8,!=1.8.1,<3.0.0,>=1.7.4 in c:\\users\\danny\\anaconda3\\lib\\site-packages (from spacy<3.8.0,>=3.7.2->en-core-web-sm==3.7.1) (2.4.2)\n",
      "Requirement already satisfied: jinja2 in c:\\users\\danny\\anaconda3\\lib\\site-packages (from spacy<3.8.0,>=3.7.2->en-core-web-sm==3.7.1) (2.11.3)\n",
      "Requirement already satisfied: setuptools in c:\\users\\danny\\anaconda3\\lib\\site-packages (from spacy<3.8.0,>=3.7.2->en-core-web-sm==3.7.1) (61.2.0)\n",
      "Requirement already satisfied: packaging>=20.0 in c:\\users\\danny\\anaconda3\\lib\\site-packages (from spacy<3.8.0,>=3.7.2->en-core-web-sm==3.7.1) (21.3)\n",
      "Requirement already satisfied: langcodes<4.0.0,>=3.2.0 in c:\\users\\danny\\anaconda3\\lib\\site-packages (from spacy<3.8.0,>=3.7.2->en-core-web-sm==3.7.1) (3.3.0)\n",
      "Requirement already satisfied: numpy>=1.19.0 in c:\\users\\danny\\anaconda3\\lib\\site-packages (from spacy<3.8.0,>=3.7.2->en-core-web-sm==3.7.1) (1.21.5)\n",
      "Requirement already satisfied: pyparsing!=3.0.5,>=2.0.2 in c:\\users\\danny\\anaconda3\\lib\\site-packages (from packaging>=20.0->spacy<3.8.0,>=3.7.2->en-core-web-sm==3.7.1) (3.0.4)\n",
      "Requirement already satisfied: annotated-types>=0.4.0 in c:\\users\\danny\\anaconda3\\lib\\site-packages (from pydantic!=1.8,!=1.8.1,<3.0.0,>=1.7.4->spacy<3.8.0,>=3.7.2->en-core-web-sm==3.7.1) (0.6.0)\n",
      "Requirement already satisfied: pydantic-core==2.10.1 in c:\\users\\danny\\anaconda3\\lib\\site-packages (from pydantic!=1.8,!=1.8.1,<3.0.0,>=1.7.4->spacy<3.8.0,>=3.7.2->en-core-web-sm==3.7.1) (2.10.1)\n",
      "Requirement already satisfied: typing-extensions>=4.6.1 in c:\\users\\danny\\anaconda3\\lib\\site-packages (from pydantic!=1.8,!=1.8.1,<3.0.0,>=1.7.4->spacy<3.8.0,>=3.7.2->en-core-web-sm==3.7.1) (4.8.0)\n",
      "Requirement already satisfied: urllib3<1.27,>=1.21.1 in c:\\users\\danny\\anaconda3\\lib\\site-packages (from requests<3.0.0,>=2.13.0->spacy<3.8.0,>=3.7.2->en-core-web-sm==3.7.1) (1.26.9)\n",
      "Requirement already satisfied: certifi>=2017.4.17 in c:\\users\\danny\\anaconda3\\lib\\site-packages (from requests<3.0.0,>=2.13.0->spacy<3.8.0,>=3.7.2->en-core-web-sm==3.7.1) (2021.10.8)\n",
      "Requirement already satisfied: charset-normalizer~=2.0.0 in c:\\users\\danny\\anaconda3\\lib\\site-packages (from requests<3.0.0,>=2.13.0->spacy<3.8.0,>=3.7.2->en-core-web-sm==3.7.1) (2.0.4)\n",
      "Requirement already satisfied: idna<4,>=2.5 in c:\\users\\danny\\anaconda3\\lib\\site-packages (from requests<3.0.0,>=2.13.0->spacy<3.8.0,>=3.7.2->en-core-web-sm==3.7.1) (3.3)\n",
      "Requirement already satisfied: blis<0.8.0,>=0.7.8 in c:\\users\\danny\\anaconda3\\lib\\site-packages (from thinc<8.3.0,>=8.1.8->spacy<3.8.0,>=3.7.2->en-core-web-sm==3.7.1) (0.7.11)\n",
      "Requirement already satisfied: confection<1.0.0,>=0.0.1 in c:\\users\\danny\\anaconda3\\lib\\site-packages (from thinc<8.3.0,>=8.1.8->spacy<3.8.0,>=3.7.2->en-core-web-sm==3.7.1) (0.1.4)\n",
      "Requirement already satisfied: colorama in c:\\users\\danny\\anaconda3\\lib\\site-packages (from tqdm<5.0.0,>=4.38.0->spacy<3.8.0,>=3.7.2->en-core-web-sm==3.7.1) (0.4.6)\n",
      "Requirement already satisfied: click<9.0.0,>=7.1.1 in c:\\users\\danny\\anaconda3\\lib\\site-packages (from typer<0.10.0,>=0.3.0->spacy<3.8.0,>=3.7.2->en-core-web-sm==3.7.1) (8.0.4)\n",
      "Requirement already satisfied: cloudpathlib<0.17.0,>=0.7.0 in c:\\users\\danny\\anaconda3\\lib\\site-packages (from weasel<0.4.0,>=0.1.0->spacy<3.8.0,>=3.7.2->en-core-web-sm==3.7.1) (0.16.0)\n",
      "Requirement already satisfied: MarkupSafe>=0.23 in c:\\users\\danny\\anaconda3\\lib\\site-packages (from jinja2->spacy<3.8.0,>=3.7.2->en-core-web-sm==3.7.1) (2.0.1)\n",
      "\u001b[38;5;2m✔ Download and installation successful\u001b[0m\n",
      "You can now load the package via spacy.load('en_core_web_sm')\n"
     ]
    },
    {
     "name": "stderr",
     "output_type": "stream",
     "text": [
      "\n",
      "[notice] A new release of pip is available: 23.1.2 -> 23.3.1\n",
      "[notice] To update, run: python.exe -m pip install --upgrade pip\n"
     ]
    },
    {
     "name": "stdout",
     "output_type": "stream",
     "text": [
      "              precision    recall  f1-score   support\n",
      "\n",
      "    negative       0.41      0.18      0.25      1127\n",
      "     neutral       0.44      0.68      0.53      1646\n",
      "    positive       0.47      0.36      0.41      1318\n",
      "\n",
      "    accuracy                           0.44      4091\n",
      "   macro avg       0.44      0.41      0.40      4091\n",
      "weighted avg       0.44      0.44      0.41      4091\n",
      "\n"
     ]
    }
   ],
   "source": [
    "import spacy\n",
    "\n",
    "!python -m spacy download en_core_web_sm\n",
    "\n",
    "nlp = spacy.load(\"en_core_web_sm\")\n",
    "\n",
    "def extract_aspects(df):\n",
    "    extract = lambda text: [t.text for t in nlp(text) if t.pos_ in ('NOUN', 'PROPN') and not t.is_stop]\n",
    "    df['aspects'] = df['text'].apply(extract)\n",
    "    return df[['aspects', 'sentiment']]\n",
    "\n",
    "def flatten_aspect_data(aspects_df):\n",
    "    flattened_df = pd.DataFrame({\n",
    "        'aspect': aspect,\n",
    "        'sentiment': sentiment\n",
    "    } for _, row in aspects_df.iterrows() for aspect, sentiment in zip(row['aspects'], [row['sentiment']] * len(row['aspects'])))\n",
    "    \n",
    "    return flattened_df\n",
    "with parallel_backend('threading', n_jobs=-1):\n",
    "\n",
    "    train_df_aspects = extract_aspects(train_df)\n",
    "    dev_df_aspects = extract_aspects(dev_df)\n",
    "\n",
    "    flattened_train_df_aspects = flatten_aspect_data(train_df_aspects)\n",
    "\n",
    "    count_vect_aspects = CountVectorizer()\n",
    "    X_train_aspects_counts = count_vect_aspects.fit_transform(flattened_train_df_aspects['aspect'])\n",
    "\n",
    "    svm_classifier_aspects = SVC()\n",
    "    svm_classifier_aspects.fit(X_train_aspects_counts, flattened_train_df_aspects['sentiment'].tolist())\n",
    "\n",
    "    flattened_dev_df_aspects = flatten_aspect_data(dev_df_aspects)\n",
    "\n",
    "    X_dev_aspects_counts = count_vect_aspects.transform(flattened_dev_df_aspects['aspect'].tolist())\n",
    "\n",
    "    dev_pred_aspects = svm_classifier_aspects.predict(X_dev_aspects_counts)\n",
    "print(classification_report(flattened_dev_df_aspects['sentiment'].tolist(), dev_pred_aspects))\n",
    "\n"
   ]
  }
 ],
 "metadata": {
  "kernelspec": {
   "display_name": "Python 3",
   "language": "python",
   "name": "python3"
  },
  "language_info": {
   "codemirror_mode": {
    "name": "ipython",
    "version": 3
   },
   "file_extension": ".py",
   "mimetype": "text/x-python",
   "name": "python",
   "nbconvert_exporter": "python",
   "pygments_lexer": "ipython3",
   "version": "3.9.12"
  }
 },
 "nbformat": 4,
 "nbformat_minor": 2
}
